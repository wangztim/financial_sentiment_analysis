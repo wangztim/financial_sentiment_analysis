{
 "metadata": {
  "language_info": {
   "codemirror_mode": {
    "name": "ipython",
    "version": 3
   },
   "file_extension": ".py",
   "mimetype": "text/x-python",
   "name": "python",
   "nbconvert_exporter": "python",
   "pygments_lexer": "ipython3",
   "version": "3.8.5-final"
  },
  "orig_nbformat": 2,
  "kernelspec": {
   "name": "Python 3.8.5 64-bit ('stocktwits_nlp': conda)",
   "display_name": "Python 3.8.5 64-bit ('stocktwits_nlp': conda)",
   "metadata": {
    "interpreter": {
     "hash": "843da69ca2ee4f0b534085b112099b4edb437f1dbfafcc3afae3619b662602df"
    }
   }
  }
 },
 "nbformat": 4,
 "nbformat_minor": 2,
 "cells": [
  {
   "cell_type": "code",
   "execution_count": 2,
   "metadata": {},
   "outputs": [],
   "source": [
    "import pandas as pd\n",
    "import uuid\n",
    "from datetime import date "
   ]
  },
  {
   "cell_type": "code",
   "execution_count": 3,
   "metadata": {},
   "outputs": [],
   "source": [
    "d =  pd.read_csv('all_agree.txt', sep=\"@\", header=None, encoding='latin-1')\n",
    "d.columns = ['body', 'sentiment']"
   ]
  },
  {
   "cell_type": "code",
   "execution_count": 4,
   "metadata": {},
   "outputs": [],
   "source": [
    "d['sentiment'] = d['sentiment'].map({'neutral': 0, 'positive': 1, 'negative': -1})"
   ]
  },
  {
   "cell_type": "code",
   "execution_count": 5,
   "metadata": {},
   "outputs": [],
   "source": [
    "d['id'] = [uuid.uuid4() for _ in range(len(d))]"
   ]
  },
  {
   "cell_type": "code",
   "execution_count": 6,
   "metadata": {},
   "outputs": [],
   "source": [
    "d['created_at'] =  [date.today() for _ in range(len(d))]"
   ]
  },
  {
   "cell_type": "code",
   "execution_count": 7,
   "metadata": {},
   "outputs": [],
   "source": [
    "d.head()\n",
    "d.set_index('id', inplace=True)\n"
   ]
  },
  {
   "cell_type": "code",
   "execution_count": 8,
   "metadata": {},
   "outputs": [
    {
     "output_type": "execute_result",
     "data": {
      "text/plain": [
       "                                                                                   body  \\\n",
       "id                                                                                        \n",
       "e36259c6-59c6-4680-a3cd-29636b36d8b1  According to Gran , the company has no plans t...   \n",
       "47da3d07-dc63-44a1-ba26-64ed979d767b  For the last quarter of 2010 , Componenta 's n...   \n",
       "b5d9a589-4562-422e-b9f2-07047293b1dd  In the third quarter of 2010 , net sales incre...   \n",
       "daa4667e-7766-4352-960c-ededccab26fa  Operating profit rose to EUR 13.1 mn from EUR ...   \n",
       "c68aea4b-ef5a-488b-ae5d-416001ab4eb3  Operating profit totalled EUR 21.1 mn , up fro...   \n",
       "...                                                                                 ...   \n",
       "33698018-12d7-46e2-b23c-5f93a36d9907  Operating result for the 12-month period decre...   \n",
       "ad51e776-ea5b-408c-af5d-f62674c936ae  HELSINKI Thomson Financial - Shares in Cargote...   \n",
       "985169cb-10cd-4328-84e8-b63f5cee2ce3  LONDON MarketWatch -- Share prices ended lower...   \n",
       "dd647170-e718-4bf2-966a-bb9b5523e9c2  Operating profit fell to EUR 35.4 mn from EUR ...   \n",
       "eb8bd351-da28-414a-ad25-469e76df2976  Sales in Finland decreased by 10.5 % in Januar...   \n",
       "\n",
       "                                      sentiment  created_at  \n",
       "id                                                           \n",
       "e36259c6-59c6-4680-a3cd-29636b36d8b1          0  2020-11-06  \n",
       "47da3d07-dc63-44a1-ba26-64ed979d767b          1  2020-11-06  \n",
       "b5d9a589-4562-422e-b9f2-07047293b1dd          1  2020-11-06  \n",
       "daa4667e-7766-4352-960c-ededccab26fa          1  2020-11-06  \n",
       "c68aea4b-ef5a-488b-ae5d-416001ab4eb3          1  2020-11-06  \n",
       "...                                         ...         ...  \n",
       "33698018-12d7-46e2-b23c-5f93a36d9907         -1  2020-11-06  \n",
       "ad51e776-ea5b-408c-af5d-f62674c936ae         -1  2020-11-06  \n",
       "985169cb-10cd-4328-84e8-b63f5cee2ce3         -1  2020-11-06  \n",
       "dd647170-e718-4bf2-966a-bb9b5523e9c2         -1  2020-11-06  \n",
       "eb8bd351-da28-414a-ad25-469e76df2976         -1  2020-11-06  \n",
       "\n",
       "[2264 rows x 3 columns]"
      ],
      "text/html": "<div>\n<style scoped>\n    .dataframe tbody tr th:only-of-type {\n        vertical-align: middle;\n    }\n\n    .dataframe tbody tr th {\n        vertical-align: top;\n    }\n\n    .dataframe thead th {\n        text-align: right;\n    }\n</style>\n<table border=\"1\" class=\"dataframe\">\n  <thead>\n    <tr style=\"text-align: right;\">\n      <th></th>\n      <th>body</th>\n      <th>sentiment</th>\n      <th>created_at</th>\n    </tr>\n    <tr>\n      <th>id</th>\n      <th></th>\n      <th></th>\n      <th></th>\n    </tr>\n  </thead>\n  <tbody>\n    <tr>\n      <th>e36259c6-59c6-4680-a3cd-29636b36d8b1</th>\n      <td>According to Gran , the company has no plans t...</td>\n      <td>0</td>\n      <td>2020-11-06</td>\n    </tr>\n    <tr>\n      <th>47da3d07-dc63-44a1-ba26-64ed979d767b</th>\n      <td>For the last quarter of 2010 , Componenta 's n...</td>\n      <td>1</td>\n      <td>2020-11-06</td>\n    </tr>\n    <tr>\n      <th>b5d9a589-4562-422e-b9f2-07047293b1dd</th>\n      <td>In the third quarter of 2010 , net sales incre...</td>\n      <td>1</td>\n      <td>2020-11-06</td>\n    </tr>\n    <tr>\n      <th>daa4667e-7766-4352-960c-ededccab26fa</th>\n      <td>Operating profit rose to EUR 13.1 mn from EUR ...</td>\n      <td>1</td>\n      <td>2020-11-06</td>\n    </tr>\n    <tr>\n      <th>c68aea4b-ef5a-488b-ae5d-416001ab4eb3</th>\n      <td>Operating profit totalled EUR 21.1 mn , up fro...</td>\n      <td>1</td>\n      <td>2020-11-06</td>\n    </tr>\n    <tr>\n      <th>...</th>\n      <td>...</td>\n      <td>...</td>\n      <td>...</td>\n    </tr>\n    <tr>\n      <th>33698018-12d7-46e2-b23c-5f93a36d9907</th>\n      <td>Operating result for the 12-month period decre...</td>\n      <td>-1</td>\n      <td>2020-11-06</td>\n    </tr>\n    <tr>\n      <th>ad51e776-ea5b-408c-af5d-f62674c936ae</th>\n      <td>HELSINKI Thomson Financial - Shares in Cargote...</td>\n      <td>-1</td>\n      <td>2020-11-06</td>\n    </tr>\n    <tr>\n      <th>985169cb-10cd-4328-84e8-b63f5cee2ce3</th>\n      <td>LONDON MarketWatch -- Share prices ended lower...</td>\n      <td>-1</td>\n      <td>2020-11-06</td>\n    </tr>\n    <tr>\n      <th>dd647170-e718-4bf2-966a-bb9b5523e9c2</th>\n      <td>Operating profit fell to EUR 35.4 mn from EUR ...</td>\n      <td>-1</td>\n      <td>2020-11-06</td>\n    </tr>\n    <tr>\n      <th>eb8bd351-da28-414a-ad25-469e76df2976</th>\n      <td>Sales in Finland decreased by 10.5 % in Januar...</td>\n      <td>-1</td>\n      <td>2020-11-06</td>\n    </tr>\n  </tbody>\n</table>\n<p>2264 rows × 3 columns</p>\n</div>"
     },
     "metadata": {},
     "execution_count": 8
    }
   ],
   "source": [
    "d"
   ]
  },
  {
   "cell_type": "code",
   "execution_count": 9,
   "metadata": {},
   "outputs": [],
   "source": [
    "d.to_csv(\"all_agree.csv\")"
   ]
  },
  {
   "cell_type": "code",
   "execution_count": null,
   "metadata": {},
   "outputs": [],
   "source": []
  }
 ]
}